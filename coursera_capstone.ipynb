{
 "cells": [
  {
   "cell_type": "markdown",
   "metadata": {},
   "source": [
    "<h1 style=\"text-align:center\">Coursera Capstone</h1>"
   ]
  },
  {
   "cell_type": "markdown",
   "metadata": {},
   "source": [
    "<h3>Background</h3>\n",
    "<p>\n",
    "Many thousands of people die in accidents every year. It is obviously a very horrible thing for both the people directly involved and their families. I want to see if weather conditions, road conditions, and light conditions at the time of a given journey can be used to predict the severity of a crash in those conditions.  Armed with the knowledge I hope to get out of the data, if someone knows that because of confounding factors they are at higher risk of being in a serius accident that day they may drive safer and with more focus, and it may save their life. The audience for this is every single motorist."
   ]
  },
  {
   "cell_type": "markdown",
   "metadata": {},
   "source": [
    "\n",
    "<h2> Datawrangling and Preprocessing </h3>"
   ]
  },
  {
   "cell_type": "code",
   "execution_count": 2,
   "metadata": {},
   "outputs": [
    {
     "name": "stderr",
     "output_type": "stream",
     "text": [
      "C:\\Users\\Sam\\Anaconda3\\lib\\site-packages\\IPython\\core\\interactiveshell.py:2785: DtypeWarning: Columns (33) have mixed types. Specify dtype option on import or set low_memory=False.\n",
      "  interactivity=interactivity, compiler=compiler, result=result)\n"
     ]
    }
   ],
   "source": [
    "import pandas as pd\n",
    "import numpy as np\n",
    "import matplotlib.pyplot as plt\n",
    "%matplotlib inline\n",
    "df = pd.read_csv(\"Data-Collisions.csv\")\n"
   ]
  },
  {
   "cell_type": "code",
   "execution_count": 3,
   "metadata": {
    "scrolled": true
   },
   "outputs": [
    {
     "name": "stdout",
     "output_type": "stream",
     "text": [
      "Index(['SEVERITYCODE', 'X', 'Y', 'OBJECTID', 'INCKEY', 'COLDETKEY', 'REPORTNO',\n",
      "       'STATUS', 'ADDRTYPE', 'INTKEY', 'LOCATION', 'EXCEPTRSNCODE',\n",
      "       'EXCEPTRSNDESC', 'SEVERITYCODE.1', 'SEVERITYDESC', 'COLLISIONTYPE',\n",
      "       'PERSONCOUNT', 'PEDCOUNT', 'PEDCYLCOUNT', 'VEHCOUNT', 'INCDATE',\n",
      "       'INCDTTM', 'JUNCTIONTYPE', 'SDOT_COLCODE', 'SDOT_COLDESC',\n",
      "       'INATTENTIONIND', 'UNDERINFL', 'WEATHER', 'ROADCOND', 'LIGHTCOND',\n",
      "       'PEDROWNOTGRNT', 'SDOTCOLNUM', 'SPEEDING', 'ST_COLCODE', 'ST_COLDESC',\n",
      "       'SEGLANEKEY', 'CROSSWALKKEY', 'HITPARKEDCAR'],\n",
      "      dtype='object')\n"
     ]
    }
   ],
   "source": [
    "print(df.columns)"
   ]
  },
  {
   "cell_type": "markdown",
   "metadata": {},
   "source": [
    "There is a duplicate SEVERITYCODE column, so that must be dropped."
   ]
  },
  {
   "cell_type": "code",
   "execution_count": 4,
   "metadata": {},
   "outputs": [
    {
     "name": "stdout",
     "output_type": "stream",
     "text": [
      "1    136485\n",
      "2     58188\n",
      "Name: SEVERITYCODE.1, dtype: int64\n",
      "1    136485\n",
      "2     58188\n",
      "Name: SEVERITYCODE, dtype: int64\n"
     ]
    },
    {
     "data": {
      "text/plain": [
       "Index(['SEVERITYCODE', 'X', 'Y', 'OBJECTID', 'INCKEY', 'COLDETKEY', 'REPORTNO',\n",
       "       'STATUS', 'ADDRTYPE', 'INTKEY', 'LOCATION', 'EXCEPTRSNCODE',\n",
       "       'EXCEPTRSNDESC', 'SEVERITYDESC', 'COLLISIONTYPE', 'PERSONCOUNT',\n",
       "       'PEDCOUNT', 'PEDCYLCOUNT', 'VEHCOUNT', 'INCDATE', 'INCDTTM',\n",
       "       'JUNCTIONTYPE', 'SDOT_COLCODE', 'SDOT_COLDESC', 'INATTENTIONIND',\n",
       "       'UNDERINFL', 'WEATHER', 'ROADCOND', 'LIGHTCOND', 'PEDROWNOTGRNT',\n",
       "       'SDOTCOLNUM', 'SPEEDING', 'ST_COLCODE', 'ST_COLDESC', 'SEGLANEKEY',\n",
       "       'CROSSWALKKEY', 'HITPARKEDCAR'],\n",
       "      dtype='object')"
      ]
     },
     "execution_count": 4,
     "metadata": {},
     "output_type": "execute_result"
    }
   ],
   "source": [
    "#SEVERITYCODE.1 is a duplicate column of SEVERITYCODE\n",
    "print(df['SEVERITYCODE.1'].value_counts())\n",
    "print(df['SEVERITYCODE'].value_counts())\n",
    "df.drop('SEVERITYCODE.1', axis = 1, inplace=True)\n",
    "df.columns"
   ]
  },
  {
   "cell_type": "markdown",
   "metadata": {},
   "source": [
    "I think the hour of the crash could be important, so I will extract that into a feature called hour.\n"
   ]
  },
  {
   "cell_type": "code",
   "execution_count": 5,
   "metadata": {},
   "outputs": [
    {
     "data": {
      "text/plain": [
       "<matplotlib.axes._subplots.AxesSubplot at 0x2364ed4c828>"
      ]
     },
     "execution_count": 5,
     "metadata": {},
     "output_type": "execute_result"
    },
    {
     "data": {
      "image/png": "[encoded data removed]",
      "text/plain": [
       "<Figure size 432x288 with 1 Axes>"
      ]
     },
     "metadata": {
      "needs_background": "light"
     },
     "output_type": "display_data"
    }
   ],
   "source": [
    "df['hour'] = pd.to_datetime(df['INCDTTM']).dt.hour\n",
    "df.hour.value_counts().sort_index().plot(kind = 'bar', )"
   ]
  },
  {
   "cell_type": "markdown",
   "metadata": {},
   "source": [
    "The 0 hour is definitely over represented in this data, so this is not a good feature for the model. There are also still many columns in our data that we can't use.  Now to remove them."
   ]
  },
  {
   "cell_type": "code",
   "execution_count": 6,
   "metadata": {},
   "outputs": [
    {
     "name": "stdout",
     "output_type": "stream",
     "text": [
      "Index(['SEVERITYCODE', 'STATUS', 'ADDRTYPE', 'COLLISIONTYPE', 'PERSONCOUNT',\n",
      "       'PEDCOUNT', 'PEDCYLCOUNT', 'VEHCOUNT', 'JUNCTIONTYPE', 'INATTENTIONIND',\n",
      "       'UNDERINFL', 'WEATHER', 'ROADCOND', 'LIGHTCOND', 'SPEEDING',\n",
      "       'HITPARKEDCAR'],\n",
      "      dtype='object')\n"
     ]
    }
   ],
   "source": [
    "#dropping all irrelevent columns\n",
    "dropper = ['X', 'Y', 'OBJECTID', 'INTKEY', 'LOCATION',\n",
    "       'EXCEPTRSNDESC' ,'EXCEPTRSNCODE', 'INCDATE', 'SEVERITYDESC','PEDROWNOTGRNT', \n",
    "        'SDOT_COLCODE', 'SDOT_COLDESC','REPORTNO',\n",
    "       'SDOTCOLNUM', 'ST_COLCODE', 'ST_COLDESC', 'SEGLANEKEY',\n",
    "       'CROSSWALKKEY', 'INCKEY','COLDETKEY','INCDTTM','hour']\n",
    "df.drop(dropper, axis=1, inplace=True)\n",
    "print(df.columns)"
   ]
  },
  {
   "cell_type": "markdown",
   "metadata": {},
   "source": [
    "As there are only two options for severity index in this data set, I will change them from '1' for prop damage and '2' for injury into '0' for prop damage and '1' for injury. This will make it easier to understand later on."
   ]
  },
  {
   "cell_type": "code",
   "execution_count": 7,
   "metadata": {},
   "outputs": [
    {
     "name": "stdout",
     "output_type": "stream",
     "text": [
      "BEFORE:\n",
      " [2 1]\n",
      "1    136485\n",
      "2     58188\n",
      "Name: SEVERITYCODE, dtype: int64\n",
      "\n",
      "AFTER:\n",
      " [1 0]\n",
      "0    136485\n",
      "1     58188\n",
      "Name: SEVERITYCODE, dtype: int64\n"
     ]
    }
   ],
   "source": [
    "print('BEFORE:\\n',df.SEVERITYCODE.unique())\n",
    "print(df['SEVERITYCODE'].value_counts())\n",
    "df['SEVERITYCODE'] = [0 if x == 1 else x for x in df['SEVERITYCODE']]\n",
    "df['SEVERITYCODE'] = [1 if x == 2 else x for x in df['SEVERITYCODE']]\n",
    "print('\\nAFTER:\\n', df.SEVERITYCODE.unique())\n",
    "print(df['SEVERITYCODE'].value_counts())"
   ]
  },
  {
   "cell_type": "markdown",
   "metadata": {},
   "source": [
    "Now to numerize underinfluence and speeding columns, and remove all rows with unmatched status. "
   ]
  },
  {
   "cell_type": "code",
   "execution_count": 8,
   "metadata": {},
   "outputs": [
    {
     "name": "stdout",
     "output_type": "stream",
     "text": [
      "UNDINFL BEFORE\n",
      " N    100274\n",
      "0     80394\n",
      "Y      5126\n",
      "1      3995\n",
      "Name: UNDERINFL, dtype: int64\n",
      "UNDINFL AFTER\n",
      " 0.0    180668\n",
      "1.0      9121\n",
      "Name: UNDERINFL, dtype: int64\n",
      "SPD BEFORE:\n",
      " Y    9333\n",
      "Name: SPEEDING, dtype: int64\n",
      "SPD AFTER:\n",
      " 0    180453\n",
      "1      9333\n",
      "Name: SPEEDING, dtype: int64\n"
     ]
    }
   ],
   "source": [
    "print(\"UNDINFL BEFORE\\n\", df.UNDERINFL.value_counts())\n",
    "df['UNDERINFL'] = [1 if x == 'Y' else x for x in df['UNDERINFL']]\n",
    "df['UNDERINFL'] = [1 if x == '1' else x for x in df['UNDERINFL']]\n",
    "df['UNDERINFL'] = [0 if x == '0' else x for x in df['UNDERINFL']]\n",
    "df['UNDERINFL'] = [0 if x == 'N' else x for x in df['UNDERINFL']]\n",
    "print(\"UNDINFL AFTER\\n\", df.UNDERINFL.value_counts())\n",
    "\n",
    "df = df[df.STATUS != 'Unmatched']\n",
    "df.STATUS.value_counts()\n",
    "df.drop(\"STATUS\", axis = 1, inplace=True)\n",
    "\n",
    "print('SPD BEFORE:\\n',df.SPEEDING.value_counts())\n",
    "df['SPEEDING'] = [1 if x == 'Y' else 0 for x in df['SPEEDING']]\n",
    "print('SPD AFTER:\\n',df.SPEEDING.value_counts())\n",
    "\n",
    "df['HITPARKEDCAR'] = [1 if x == 'Y' else x for x in df['HITPARKEDCAR']]\n",
    "df['HITPARKEDCAR'] = [0 if x == 'N' else x for x in df['HITPARKEDCAR']]\n"
   ]
  },
  {
   "cell_type": "markdown",
   "metadata": {},
   "source": [
    "<h3>Dealing with Null data</h3>"
   ]
  },
  {
   "cell_type": "code",
   "execution_count": 9,
   "metadata": {},
   "outputs": [
    {
     "name": "stdout",
     "output_type": "stream",
     "text": [
      "SEVERITYCODE           0\n",
      "ADDRTYPE            1817\n",
      "COLLISIONTYPE         21\n",
      "PERSONCOUNT            0\n",
      "PEDCOUNT               0\n",
      "PEDCYLCOUNT            0\n",
      "VEHCOUNT               0\n",
      "JUNCTIONTYPE        6178\n",
      "INATTENTIONIND    159981\n",
      "UNDERINFL              0\n",
      "WEATHER              197\n",
      "ROADCOND             128\n",
      "LIGHTCOND            286\n",
      "SPEEDING               0\n",
      "HITPARKEDCAR           0\n",
      "dtype: int64\n"
     ]
    }
   ],
   "source": [
    "print(df.isnull().sum())"
   ]
  },
  {
   "cell_type": "markdown",
   "metadata": {},
   "source": [
    "In this data there are quite some null entries, so now I sort that out. I will be removing all of the smaller count null values, and only leaving the INATTENTIONIND null values, as I can make a dummy variable from the 'nullness' of them. As there are no 'No' datavalues, I am hoping that could be a no feature."
   ]
  },
  {
   "cell_type": "code",
   "execution_count": 10,
   "metadata": {},
   "outputs": [],
   "source": [
    "df.dropna(subset = ['WEATHER','ROADCOND','LIGHTCOND','COLLISIONTYPE','ADDRTYPE','JUNCTIONTYPE'], inplace = True)\n"
   ]
  },
  {
   "cell_type": "code",
   "execution_count": 11,
   "metadata": {},
   "outputs": [
    {
     "data": {
      "text/plain": [
       "0    126269\n",
       "1     56625\n",
       "Name: SEVERITYCODE, dtype: int64"
      ]
     },
     "execution_count": 11,
     "metadata": {},
     "output_type": "execute_result"
    }
   ],
   "source": [
    "\n",
    "df.SEVERITYCODE.value_counts()"
   ]
  },
  {
   "cell_type": "markdown",
   "metadata": {},
   "source": [
    "<h3>Dummies</h3>"
   ]
  },
  {
   "cell_type": "code",
   "execution_count": 12,
   "metadata": {},
   "outputs": [],
   "source": [
    "#add dummies for categorical variables\n",
    "def dummy_df(df, todummy_list):\n",
    "    for x in todummy_list:\n",
    "        dummies = pd.get_dummies(df[x], prefix=x,dummy_na = True)\n",
    "        df = df.drop(x, 1)\n",
    "        df = pd.concat([df, dummies], axis = 1)\n",
    "    return df"
   ]
  },
  {
   "cell_type": "code",
   "execution_count": 13,
   "metadata": {},
   "outputs": [],
   "source": [
    "#define x and y for easy model usage\n",
    "X = df.drop('SEVERITYCODE',1)\n",
    "y = df['SEVERITYCODE']\n",
    "dummylist = ['WEATHER','ROADCOND','LIGHTCOND','COLLISIONTYPE','ADDRTYPE','JUNCTIONTYPE', 'INATTENTIONIND']\n",
    "X = dummy_df(X, dummylist) "
   ]
  },
  {
   "cell_type": "code",
   "execution_count": 14,
   "metadata": {},
   "outputs": [
    {
     "data": {
      "text/html": [
       "<div>\n",
       "<style scoped>\n",
       "    .dataframe tbody tr th:only-of-type {\n",
       "        vertical-align: middle;\n",
       "    }\n",
       "\n",
       "    .dataframe tbody tr th {\n",
       "        vertical-align: top;\n",
       "    }\n",
       "\n",
       "    .dataframe thead th {\n",
       "        text-align: right;\n",
       "    }\n",
       "</style>\n",
       "<table border=\"1\" class=\"dataframe\">\n",
       "  <thead>\n",
       "    <tr style=\"text-align: right;\">\n",
       "      <th></th>\n",
       "      <th>PERSONCOUNT</th>\n",
       "      <th>PEDCOUNT</th>\n",
       "      <th>PEDCYLCOUNT</th>\n",
       "      <th>VEHCOUNT</th>\n",
       "      <th>UNDERINFL</th>\n",
       "      <th>SPEEDING</th>\n",
       "      <th>HITPARKEDCAR</th>\n",
       "      <th>WEATHER_Blowing Sand/Dirt</th>\n",
       "      <th>WEATHER_Clear</th>\n",
       "      <th>WEATHER_Fog/Smog/Smoke</th>\n",
       "      <th>...</th>\n",
       "      <th>JUNCTIONTYPE_At Intersection (but not related to intersection)</th>\n",
       "      <th>JUNCTIONTYPE_At Intersection (intersection related)</th>\n",
       "      <th>JUNCTIONTYPE_Driveway Junction</th>\n",
       "      <th>JUNCTIONTYPE_Mid-Block (but intersection related)</th>\n",
       "      <th>JUNCTIONTYPE_Mid-Block (not related to intersection)</th>\n",
       "      <th>JUNCTIONTYPE_Ramp Junction</th>\n",
       "      <th>JUNCTIONTYPE_Unknown</th>\n",
       "      <th>JUNCTIONTYPE_nan</th>\n",
       "      <th>INATTENTIONIND_Y</th>\n",
       "      <th>INATTENTIONIND_nan</th>\n",
       "    </tr>\n",
       "  </thead>\n",
       "  <tbody>\n",
       "    <tr>\n",
       "      <th>0</th>\n",
       "      <td>2</td>\n",
       "      <td>0</td>\n",
       "      <td>0</td>\n",
       "      <td>2</td>\n",
       "      <td>0.0</td>\n",
       "      <td>0</td>\n",
       "      <td>0</td>\n",
       "      <td>0</td>\n",
       "      <td>0</td>\n",
       "      <td>0</td>\n",
       "      <td>...</td>\n",
       "      <td>0</td>\n",
       "      <td>1</td>\n",
       "      <td>0</td>\n",
       "      <td>0</td>\n",
       "      <td>0</td>\n",
       "      <td>0</td>\n",
       "      <td>0</td>\n",
       "      <td>0</td>\n",
       "      <td>0</td>\n",
       "      <td>1</td>\n",
       "    </tr>\n",
       "    <tr>\n",
       "      <th>1</th>\n",
       "      <td>2</td>\n",
       "      <td>0</td>\n",
       "      <td>0</td>\n",
       "      <td>2</td>\n",
       "      <td>0.0</td>\n",
       "      <td>0</td>\n",
       "      <td>0</td>\n",
       "      <td>0</td>\n",
       "      <td>0</td>\n",
       "      <td>0</td>\n",
       "      <td>...</td>\n",
       "      <td>0</td>\n",
       "      <td>0</td>\n",
       "      <td>0</td>\n",
       "      <td>0</td>\n",
       "      <td>1</td>\n",
       "      <td>0</td>\n",
       "      <td>0</td>\n",
       "      <td>0</td>\n",
       "      <td>0</td>\n",
       "      <td>1</td>\n",
       "    </tr>\n",
       "    <tr>\n",
       "      <th>2</th>\n",
       "      <td>4</td>\n",
       "      <td>0</td>\n",
       "      <td>0</td>\n",
       "      <td>3</td>\n",
       "      <td>0.0</td>\n",
       "      <td>0</td>\n",
       "      <td>0</td>\n",
       "      <td>0</td>\n",
       "      <td>0</td>\n",
       "      <td>0</td>\n",
       "      <td>...</td>\n",
       "      <td>0</td>\n",
       "      <td>0</td>\n",
       "      <td>0</td>\n",
       "      <td>0</td>\n",
       "      <td>1</td>\n",
       "      <td>0</td>\n",
       "      <td>0</td>\n",
       "      <td>0</td>\n",
       "      <td>0</td>\n",
       "      <td>1</td>\n",
       "    </tr>\n",
       "    <tr>\n",
       "      <th>3</th>\n",
       "      <td>3</td>\n",
       "      <td>0</td>\n",
       "      <td>0</td>\n",
       "      <td>3</td>\n",
       "      <td>0.0</td>\n",
       "      <td>0</td>\n",
       "      <td>0</td>\n",
       "      <td>0</td>\n",
       "      <td>1</td>\n",
       "      <td>0</td>\n",
       "      <td>...</td>\n",
       "      <td>0</td>\n",
       "      <td>0</td>\n",
       "      <td>0</td>\n",
       "      <td>0</td>\n",
       "      <td>1</td>\n",
       "      <td>0</td>\n",
       "      <td>0</td>\n",
       "      <td>0</td>\n",
       "      <td>0</td>\n",
       "      <td>1</td>\n",
       "    </tr>\n",
       "    <tr>\n",
       "      <th>4</th>\n",
       "      <td>2</td>\n",
       "      <td>0</td>\n",
       "      <td>0</td>\n",
       "      <td>2</td>\n",
       "      <td>0.0</td>\n",
       "      <td>0</td>\n",
       "      <td>0</td>\n",
       "      <td>0</td>\n",
       "      <td>0</td>\n",
       "      <td>0</td>\n",
       "      <td>...</td>\n",
       "      <td>0</td>\n",
       "      <td>1</td>\n",
       "      <td>0</td>\n",
       "      <td>0</td>\n",
       "      <td>0</td>\n",
       "      <td>0</td>\n",
       "      <td>0</td>\n",
       "      <td>0</td>\n",
       "      <td>0</td>\n",
       "      <td>1</td>\n",
       "    </tr>\n",
       "  </tbody>\n",
       "</table>\n",
       "<p>5 rows × 64 columns</p>\n",
       "</div>"
      ],
      "text/plain": [
       "   PERSONCOUNT  PEDCOUNT  PEDCYLCOUNT  VEHCOUNT  UNDERINFL  SPEEDING  \\\n",
       "0            2         0            0         2        0.0         0   \n",
       "1            2         0            0         2        0.0         0   \n",
       "2            4         0            0         3        0.0         0   \n",
       "3            3         0            0         3        0.0         0   \n",
       "4            2         0            0         2        0.0         0   \n",
       "\n",
       "   HITPARKEDCAR  WEATHER_Blowing Sand/Dirt  WEATHER_Clear  \\\n",
       "0             0                          0              0   \n",
       "1             0                          0              0   \n",
       "2             0                          0              0   \n",
       "3             0                          0              1   \n",
       "4             0                          0              0   \n",
       "\n",
       "   WEATHER_Fog/Smog/Smoke         ...          \\\n",
       "0                       0         ...           \n",
       "1                       0         ...           \n",
       "2                       0         ...           \n",
       "3                       0         ...           \n",
       "4                       0         ...           \n",
       "\n",
       "   JUNCTIONTYPE_At Intersection (but not related to intersection)  \\\n",
       "0                                                  0                \n",
       "1                                                  0                \n",
       "2                                                  0                \n",
       "3                                                  0                \n",
       "4                                                  0                \n",
       "\n",
       "   JUNCTIONTYPE_At Intersection (intersection related)  \\\n",
       "0                                                  1     \n",
       "1                                                  0     \n",
       "2                                                  0     \n",
       "3                                                  0     \n",
       "4                                                  1     \n",
       "\n",
       "   JUNCTIONTYPE_Driveway Junction  \\\n",
       "0                               0   \n",
       "1                               0   \n",
       "2                               0   \n",
       "3                               0   \n",
       "4                               0   \n",
       "\n",
       "   JUNCTIONTYPE_Mid-Block (but intersection related)  \\\n",
       "0                                                  0   \n",
       "1                                                  0   \n",
       "2                                                  0   \n",
       "3                                                  0   \n",
       "4                                                  0   \n",
       "\n",
       "   JUNCTIONTYPE_Mid-Block (not related to intersection)  \\\n",
       "0                                                  0      \n",
       "1                                                  1      \n",
       "2                                                  1      \n",
       "3                                                  1      \n",
       "4                                                  0      \n",
       "\n",
       "   JUNCTIONTYPE_Ramp Junction  JUNCTIONTYPE_Unknown  JUNCTIONTYPE_nan  \\\n",
       "0                           0                     0                 0   \n",
       "1                           0                     0                 0   \n",
       "2                           0                     0                 0   \n",
       "3                           0                     0                 0   \n",
       "4                           0                     0                 0   \n",
       "\n",
       "   INATTENTIONIND_Y  INATTENTIONIND_nan  \n",
       "0                 0                   1  \n",
       "1                 0                   1  \n",
       "2                 0                   1  \n",
       "3                 0                   1  \n",
       "4                 0                   1  \n",
       "\n",
       "[5 rows x 64 columns]"
      ]
     },
     "execution_count": 14,
     "metadata": {},
     "output_type": "execute_result"
    }
   ],
   "source": [
    "X.head()"
   ]
  },
  {
   "cell_type": "markdown",
   "metadata": {},
   "source": [
    "<h1>Balancing the data</h1>\n",
    "Going to try 2 methods, smote upscaling and simple downscaling.\n"
   ]
  },
  {
   "cell_type": "code",
   "execution_count": 40,
   "metadata": {},
   "outputs": [],
   "source": [
    "#import many useful modules\n",
    "from imblearn.over_sampling import SMOTE\n",
    "from imblearn.under_sampling import NearMiss\n",
    "from sklearn.model_selection import train_test_split\n",
    "from sklearn.neighbors import KNeighborsClassifier\n",
    "from collections import Counter\n",
    "from sklearn.metrics import accuracy_score\n",
    "from sklearn.tree import DecisionTreeClassifier\n",
    "from sklearn.ensemble import RandomForestClassifier"
   ]
  },
  {
   "cell_type": "code",
   "execution_count": 15,
   "metadata": {},
   "outputs": [
    {
     "data": {
      "text/plain": [
       "0    126269\n",
       "1     56625\n",
       "Name: SEVERITYCODE, dtype: int64"
      ]
     },
     "execution_count": 15,
     "metadata": {},
     "output_type": "execute_result"
    }
   ],
   "source": [
    "#the data is still imbalanced\n",
    "y.value_counts()\n"
   ]
  },
  {
   "cell_type": "code",
   "execution_count": 16,
   "metadata": {},
   "outputs": [],
   "source": [
    "X_train, X_test, y_train, y_test = train_test_split(X, y, test_size = 0.1, random_state = 42)"
   ]
  },
  {
   "cell_type": "markdown",
   "metadata": {},
   "source": [
    "<h2>Model Testing Smote</h2>"
   ]
  },
  {
   "cell_type": "code",
   "execution_count": 49,
   "metadata": {},
   "outputs": [
    {
     "name": "stdout",
     "output_type": "stream",
     "text": [
      "Before smote: Counter({0: 113665, 1: 50939})\n",
      "After smote: Counter({0: 113665, 1: 113665})\n",
      "model fitted\n",
      "Unbalanced accuracy: 0.714215418261345\n",
      "Balanced accuracy: 0.7077091306724986\n"
     ]
    }
   ],
   "source": [
    "#show the difference between smote and not smote data\n",
    "model = KNeighborsClassifier()\n",
    "model.fit(X_train,y_train)\n",
    "y_predict = model.predict(X_test)\n",
    "smote = SMOTE()\n",
    "X_train_smote, y_train_smote = smote.fit_sample(X_train.astype(float), y_train)\n",
    "print(\"Before smote:\", Counter(y_train))\n",
    "print(\"After smote:\", Counter(y_train_smote))\n",
    "model.fit(X_train_smote, y_train_smote)\n",
    "print(\"model fitted\")\n",
    "y_predict_smote = model.predict(X_test)\n",
    "print('Unbalanced accuracy:', accuracy_score(y_test, y_predict))\n",
    "print('Balanced accuracy:', accuracy_score(y_test, y_predict_smote))"
   ]
  },
  {
   "cell_type": "code",
   "execution_count": 50,
   "metadata": {},
   "outputs": [
    {
     "name": "stdout",
     "output_type": "stream",
     "text": [
      "0  model fitted\n",
      "0  model predicted, accuracy:  0.6768179332968836\n",
      "1  model fitted\n",
      "1  model predicted, accuracy:  0.7196828868234008\n",
      "2  model fitted\n",
      "2  model predicted, accuracy:  0.7038819026790596\n",
      "3  model fitted\n",
      "3  model predicted, accuracy:  0.7206123564789503\n",
      "4  model fitted\n",
      "4  model predicted, accuracy:  0.7077091306724986\n",
      "5  model fitted\n",
      "5  model predicted, accuracy:  0.7200656096227447\n",
      "6  model fitted\n",
      "6  model predicted, accuracy:  0.715582285401859\n",
      "7  model fitted\n",
      "7  model predicted, accuracy:  0.7247129579004921\n",
      "8  model fitted\n",
      "8  model predicted, accuracy:  0.7171678512848552\n",
      "9  model fitted\n",
      "9  model predicted, accuracy:  0.7276107162383816\n",
      "10  model fitted\n",
      "10  model predicted, accuracy:  0.7275013668671405\n",
      "11  model fitted\n",
      "11  model predicted, accuracy:  0.721869874248223\n",
      "12  model fitted\n",
      "12  model predicted, accuracy:  0.7229633679606342\n",
      "[0.67681793 0.71968289 0.7038819  0.72061236 0.70770913 0.72006561\n",
      " 0.71558229 0.72471296 0.71716785 0.72761072 0.72750137 0.72186987\n",
      " 0.72296337]\n"
     ]
    },
    {
     "data": {
      "text/plain": [
       "[<matplotlib.lines.Line2D at 0x2364b04e7b8>]"
      ]
     },
     "execution_count": 50,
     "metadata": {},
     "output_type": "execute_result"
    },
    {
     "data": {
      "image/png": "[encoded data removed]",
      "text/plain": [
       "<Figure size 432x288 with 1 Axes>"
      ]
     },
     "metadata": {
      "needs_background": "light"
     },
     "output_type": "display_data"
    }
   ],
   "source": [
    "#finding the optimal K for knn model\n",
    "ks = [1, 2, 3, 4, 5, 6, 7 , 8 ,9 , 10, 20, 150, 160]\n",
    "kscores = np.zeros(len(ks))\n",
    "for i in range(len(ks)):\n",
    "    kmodel = KNeighborsClassifier(n_neighbors = ks[i])\n",
    "    kmodel.fit(X_train_smote, y_train_smote)\n",
    "    print(i, \" model fitted\")\n",
    "    yhat = kmodel.predict(X_test)\n",
    "    kscores[i] = accuracy_score(y_test, yhat)\n",
    "    print(i, \" model predicted, accuracy: \", kscores[i])\n",
    "print(kscores)\n",
    "plt.plot(ks, kscores)\n"
   ]
  },
  {
   "cell_type": "code",
   "execution_count": 25,
   "metadata": {},
   "outputs": [
    {
     "data": {
      "text/plain": [
       "KNeighborsClassifier(n_neighbors=6)"
      ]
     },
     "execution_count": 25,
     "metadata": {},
     "output_type": "execute_result"
    }
   ],
   "source": [
    "#k = 7 works best\n",
    "kmodel = KNeighborsClassifier(n_neighbors=7)\n",
    "kmodel.fit(X_train_smote, y_train_smote)\n"
   ]
  },
  {
   "cell_type": "code",
   "execution_count": 29,
   "metadata": {},
   "outputs": [
    {
     "name": "stdout",
     "output_type": "stream",
     "text": [
      "entropy accuracy: 0.668234007654456\n",
      "gini accuracy: 0.6680153089119738\n"
     ]
    }
   ],
   "source": [
    "#deciding which is the best critera for decision tree model\n",
    "\n",
    "dtmodel = DecisionTreeClassifier(criterion=\"entropy\")\n",
    "dtmodel.fit(X_train_smote, y_train_smote)\n",
    "dtyhat = dtmodel.predict(X_test)\n",
    "print(\"dt entropy accuracy:\", accuracy_score(y_test, dtyhat))\n",
    "\n",
    "dtmodel = DecisionTreeClassifier(criterion=\"gini\")\n",
    "dtmodel.fit(X_train_smote, y_train_smote)\n",
    "dtyhat = dtmodel.predict(X_test)\n",
    "print(\"dt gini accuracy:\", accuracy_score(y_test, dtyhat))\n"
   ]
  },
  {
   "cell_type": "code",
   "execution_count": 52,
   "metadata": {},
   "outputs": [
    {
     "data": {
      "text/plain": [
       "0.6716785128485511"
      ]
     },
     "execution_count": 52,
     "metadata": {},
     "output_type": "execute_result"
    }
   ],
   "source": [
    "#Entropy is the best for decision tree, and this contains deicsion trees\n",
    "\n",
    "rf_model = RandomForestClassifier(criterion= \"entropy\", random_state = 42,  n_estimators = 200)\n",
    "rf_model.fit(X_train_smote, y_train_smote)\n",
    "rf_yhat = rf_model.predict(X_test)\n",
    "accuracy_score(y_test, rf_yhat)"
   ]
  },
  {
   "cell_type": "markdown",
   "metadata": {},
   "source": [
    "<h2>Model Testing Downsampling</h2>\n"
   ]
  },
  {
   "cell_type": "code",
   "execution_count": 45,
   "metadata": {},
   "outputs": [
    {
     "name": "stdout",
     "output_type": "stream",
     "text": [
      "(164604, 64)\n",
      "(164604,)\n",
      "(101878, 64)\n",
      "(101878,)\n"
     ]
    }
   ],
   "source": [
    "#showing the difference before and after downsampling\n",
    "from imblearn.under_sampling import NearMiss \n",
    "print(X_train.shape)\n",
    "print(y_train.shape)\n",
    "nm = NearMiss()\n",
    "X_train_res, y_train_res = nm.fit_sample(X_train, y_train)\n",
    "print(X_train_res.shape)\n",
    "print(y_train_res.shape)"
   ]
  },
  {
   "cell_type": "code",
   "execution_count": 51,
   "metadata": {},
   "outputs": [
    {
     "name": "stdout",
     "output_type": "stream",
     "text": [
      "1  model fitted\n",
      "1  model predicted, accuracy:  0.6293056314926189\n",
      "2  model fitted\n",
      "2  model predicted, accuracy:  0.6607435757244395\n",
      "3  model fitted\n",
      "3  model predicted, accuracy:  0.6591580098414435\n",
      "4  model fitted\n",
      "4  model predicted, accuracy:  0.6806451612903226\n",
      "5  model fitted\n",
      "5  model predicted, accuracy:  0.6765445598687807\n",
      "6  model fitted\n",
      "6  model predicted, accuracy:  0.6916894477856752\n",
      "7  model fitted\n",
      "7  model predicted, accuracy:  0.6839803171131766\n",
      "8  model fitted\n",
      "8  model predicted, accuracy:  0.6997813012575178\n",
      "9  model fitted\n",
      "9  model predicted, accuracy:  0.6961727720065609\n",
      "10  model fitted\n",
      "10  model predicted, accuracy:  0.7048660470202296\n",
      "20  model fitted\n",
      "20  model predicted, accuracy:  0.7138326954620011\n",
      "40  model fitted\n",
      "40  model predicted, accuracy:  0.721869874248223\n",
      "160  model fitted\n",
      "160  model predicted, accuracy:  0.722252597047567\n",
      "500  model fitted\n",
      "500  model predicted, accuracy:  0.7221979223619465\n",
      "[0.62930563 0.66074358 0.65915801 0.68064516 0.67654456 0.69168945\n",
      " 0.68398032 0.6997813  0.69617277 0.70486605 0.7138327  0.72186987\n",
      " 0.7222526  0.72219792]\n",
      "dt entropy accuracy: 0.63039912520503\n",
      "dt gini accuracy: 0.6278840896664845\n",
      "rf entropy accuracy 0.6214324767632586\n",
      "rf gini accuracy 0.6205030071077091\n"
     ]
    },
    {
     "data": {
      "image/png": "[encoded data removed]",
      "text/plain": [
       "<Figure size 432x288 with 1 Axes>"
      ]
     },
     "metadata": {
      "needs_background": "light"
     },
     "output_type": "display_data"
    }
   ],
   "source": [
    "#doing the same models as above\n",
    "\n",
    "ks = [1, 2, 3, 4, 5, 6, 7 , 8 ,9 , 10, 20, 40, 160, 500]\n",
    "kscores = np.zeros(len(ks))\n",
    "for i in range(len(ks)):\n",
    "    kmodel = KNeighborsClassifier(n_neighbors = ks[i])\n",
    "    kmodel.fit(X_train_res, y_train_res)\n",
    "    print(ks[i], \" model fitted\")\n",
    "    yhat = kmodel.predict(X_test)\n",
    "    kscores[i] = accuracy_score(y_test, yhat)\n",
    "    print(ks[i], \" model predicted, accuracy: \", kscores[i])\n",
    "print(kscores)\n",
    "plt.plot(ks, kscores)\n",
    "\n",
    "dtmodel = DecisionTreeClassifier(criterion=\"entropy\")\n",
    "dtmodel.fit(X_train_res, y_train_res)\n",
    "dtyhat = dtmodel.predict(X_test)\n",
    "print(\"dt entropy accuracy:\", accuracy_score(y_test, dtyhat))\n",
    "\n",
    "dtmodel = DecisionTreeClassifier(criterion=\"gini\")\n",
    "dtmodel.fit(X_train_res, y_train_res)\n",
    "dtyhat = dtmodel.predict(X_test)\n",
    "print(\"dt gini accuracy:\", accuracy_score(y_test, dtyhat))\n",
    "\n",
    "rf_model = RandomForestClassifier(criterion= \"entropy\", random_state = 42,  n_estimators = 200)\n",
    "rf_model.fit(X_train_res, y_train_res)\n",
    "rf_yhat = rf_model.predict(X_test)\n",
    "print(\"rf entropy accuracy\", accuracy_score(y_test, rf_yhat))\n",
    "\n",
    "rf_model = RandomForestClassifier(criterion= \"gini\", random_state = 42,  n_estimators = 200)\n",
    "rf_model.fit(X_train_res, y_train_res)\n",
    "rf_yhat = rf_model.predict(X_test)\n",
    "print(\"rf gini accuracy\", accuracy_score(y_test, rf_yhat))\n"
   ]
  },
  {
   "cell_type": "markdown",
   "metadata": {},
   "source": [
    "So the best model found is K-nearest-neighbor on the smote data, with an accuracy score of 0.7276"
   ]
  },
  {
   "cell_type": "code",
   "execution_count": null,
   "metadata": {},
   "outputs": [],
   "source": []
  }
 ],
 "metadata": {
  "kernelspec": {
   "display_name": "Python 3",
   "language": "python",
   "name": "python3"
  },
  "language_info": {
   "codemirror_mode": {
    "name": "ipython",
    "version": 3
   },
   "file_extension": ".py",
   "mimetype": "text/x-python",
   "name": "python",
   "nbconvert_exporter": "python",
   "pygments_lexer": "ipython3",
   "version": "3.7.0"
  }
 },
 "nbformat": 4,
 "nbformat_minor": 2
}
