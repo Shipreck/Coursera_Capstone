{
 "cells": [
  {
   "cell_type": "markdown",
   "metadata": {},
   "source": [
    "<h1 style=\"text-align: center\"> Coursera Capstone Project: Week 1 Discussion </h1>"
   ]
  },
  {
   "cell_type": "markdown",
   "metadata": {},
   "source": [
    "<h3>Background</h3>\n",
    "<p>\n",
    "Many thousands of people die in accidents every year. It is obviously a very horrible thing for both the people directly involved and their families. I want to see if weather conditions, road conditions, and light conditions at the time of a given journey can be used to calculate the probability of a crash, and at what severity it would be. Armed with the knowledge I hope to get out of the data, if someone knows that because of confounding factors they are at higher risk of being in an accident that day they may drive safer and with more focus, and it may save their life. The audience for this is every single motorist."
   ]
  },
  {
   "cell_type": "markdown",
   "metadata": {},
   "source": [
    "<h3>The Dataset</h3>\n",
    "I will be using a shared dataset from the course on accidents in seattle. There are 37 features and 194673 rows in the dataset. I will be using this data to create a model to predict a probability given the road conditions, lightconditions, weather conditions if there will be a crash. The main classifier I will be predicting is \"severity\", which has these codes: \n",
    "\n",
    "<ul3—fatality, 2b—serious injury, 2—injury , 1—prop damage , 0—unknown.\n",
    "\n",
    "I will remove all unknowns from the dataset.\n",
    "\n",
    "I will be using many of the classification algorithms taught in the previous course, such as decision tree, SVM and logistic regression and testing which is the most accurate model. Then I will be finalizing the model choice, and implementing it.  \n",
    "\n",
    "The first section of my report will be on data handling and datawrangling. I need to remove a lot of the useless features.\n",
    "\n"
   ]
  },
  {
   "cell_type": "code",
   "execution_count": null,
   "metadata": {},
   "outputs": [],
   "source": []
  }
 ],
 "metadata": {
  "kernelspec": {
   "display_name": "Python 3",
   "language": "python",
   "name": "python3"
  },
  "language_info": {
   "codemirror_mode": {
    "name": "ipython",
    "version": 3
   },
   "file_extension": ".py",
   "mimetype": "text/x-python",
   "name": "python",
   "nbconvert_exporter": "python",
   "pygments_lexer": "ipython3",
   "version": "3.7.0"
  }
 },
 "nbformat": 4,
 "nbformat_minor": 2
}
